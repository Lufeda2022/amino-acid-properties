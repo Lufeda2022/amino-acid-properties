{
 "cells": [
  {
   "cell_type": "code",
   "execution_count": 13,
   "metadata": {},
   "outputs": [
    {
     "data": {
      "text/plain": [
       "295"
      ]
     },
     "execution_count": 13,
     "metadata": {},
     "output_type": "execute_result"
    }
   ],
   "source": [
    "from Bio.Seq import Seq\n",
    "Seq1 = Seq(\"AEFYGIKFLPFPLVFCIGGFDGVEYLNSMELLDISQQCWRMCTPMSTKKAYFGSAVLNNFLYVFGGNNYDYKALFETEVYDRLRDVWYVSSNLNIPRRNNCGVTSNGRIYCIGGYDGSSIIPNVEAYDHRMKAWVEVAPLNTPRSSAMCVAFDNKIYVIGGTNGERLNSIEVYEEKMNKWEQFPYALLEARSSGAAFNYLNQIYVVGGIDNEHNILDSVEQYQPFNKRWQFLNGVPEKKMNFGAATLSDSYIITGGENGEVLNSCHFFSPDTNEWQLGPSLLVPRFGHSVLIANI\")\n",
    "len(Seq1)\n",
    "#max(Seq1)"
   ]
  },
  {
   "cell_type": "code",
   "execution_count": 11,
   "metadata": {},
   "outputs": [
    {
     "name": "stdout",
     "output_type": "stream",
     "text": [
      "Polar Residues:\n",
      "Count: 141\n",
      "Percentage: 47.79661016949153\n",
      "\n",
      "Non-Polar Residues:\n",
      "Count: 154\n",
      "Percentage: 52.20338983050847\n"
     ]
    }
   ],
   "source": [
    "from Bio.Seq import Seq\n",
    "\n",
    "# Define the protein sequence\n",
    "Seq1 = Seq(\"AEFYGIKFLPFPLVFCIGGFDGVEYLNSMELLDISQQCWRMCTPMSTKKAYFGSAVLNNFLYVFGGNNYDYKALFETEVYDRLRDVWYVSSNLNIPRRNNCGVTSNGRIYCIGGYDGSSIIPNVEAYDHRMKAWVEVAPLNTPRSSAMCVAFDNKIYVIGGTNGERLNSIEVYEEKMNKWEQFPYALLEARSSGAAFNYLNQIYVVGGIDNEHNILDSVEQYQPFNKRWQFLNGVPEKKMNFGAATLSDSYIITGGENGEVLNSCHFFSPDTNEWQLGPSLLVPRFGHSVLIANI\")\n",
    "\n",
    "# Define the polar residues\n",
    "polar_residues = set(\"RNDQEHKSTY\")\n",
    "\n",
    "# Count the number of polar and non-polar residues\n",
    "count_polar = sum(Seq1.count(residue) for residue in polar_residues)\n",
    "count_nonpolar = len(Seq1) - count_polar\n",
    "\n",
    "# Calculate the percentage of polar and non-polar residues\n",
    "percentage_polar = (count_polar / len(Seq1)) * 100\n",
    "percentage_nonpolar = (count_nonpolar / len(Seq1)) * 100\n",
    "\n",
    "# Print the results\n",
    "print(\"Polar Residues:\")\n",
    "print(\"Count:\", count_polar)\n",
    "print(\"Percentage:\", percentage_polar)\n",
    "\n",
    "print(\"\\nNon-Polar Residues:\")\n",
    "print(\"Count:\", count_nonpolar)\n",
    "print(\"Percentage:\", percentage_nonpolar)"
   ]
  },
  {
   "cell_type": "code",
   "execution_count": 16,
   "metadata": {},
   "outputs": [
    {
     "name": "stdout",
     "output_type": "stream",
     "text": [
      "Hydrophobic Residues:\n",
      "Count: 154\n",
      "Percentage: 52.20338983050847\n",
      "\n",
      "Polar Residues:\n",
      "Count: 141\n",
      "Percentage: 47.79661016949153\n"
     ]
    }
   ],
   "source": [
    "from Bio.Seq import Seq\n",
    "\n",
    "# Define the protein sequence\n",
    "Seq1 = Seq(\"AEFYGIKFLPFPLVFCIGGFDGVEYLNSMELLDISQQCWRMCTPMSTKKAYFGSAVLNNFLYVFGGNNYDYKALFETEVYDRLRDVWYVSSNLNIPRRNNCGVTSNGRIYCIGGYDGSSIIPNVEAYDHRMKAWVEVAPLNTPRSSAMCVAFDNKIYVIGGTNGERLNSIEVYEEKMNKWEQFPYALLEARSSGAAFNYLNQIYVVGGIDNEHNILDSVEQYQPFNKRWQFLNGVPEKKMNFGAATLSDSYIITGGENGEVLNSCHFFSPDTNEWQLGPSLLVPRFGHSVLIANI\")\n",
    "\n",
    "# Define the hydrophobic residues\n",
    "hydrophobic_residues = \"FWILMVCPGA\"\n",
    "\n",
    "# Define the polar residues\n",
    "polar_residues = \"YKRHEQTDNS\"\n",
    "\n",
    "\n",
    "# Count the number of hydrophobic, polar, and neutral residues\n",
    "count_hydrophobic = sum(Seq1.count(residue) for residue in hydrophobic_residues)\n",
    "count_polar = sum(Seq1.count(residue) for residue in polar_residues)\n",
    "\n",
    "# Calculate the total number of residues\n",
    "total_residues = len(Seq1)\n",
    "\n",
    "# Calculate the percentage of hydrophobic, polar, and neutral residues\n",
    "percentage_hydrophobic = (count_hydrophobic / total_residues) * 100\n",
    "percentage_polar = (count_polar / total_residues) * 100\n",
    "\n",
    "# Print the results\n",
    "print(\"Hydrophobic Residues:\")\n",
    "print(\"Count:\", count_hydrophobic)\n",
    "print(\"Percentage:\", percentage_hydrophobic)\n",
    "\n",
    "print(\"\\nPolar Residues:\")\n",
    "print(\"Count:\", count_polar)\n",
    "print(\"Percentage:\", percentage_polar)\n",
    "\n"
   ]
  },
  {
   "cell_type": "code",
   "execution_count": 17,
   "metadata": {},
   "outputs": [
    {
     "name": "stdout",
     "output_type": "stream",
     "text": [
      "Amino Acid Composition:\n",
      "G:\n",
      "Count: 25\n",
      "Percentage: 8.47457627118644\n",
      "\n",
      "M:\n",
      "Count: 7\n",
      "Percentage: 2.3728813559322033\n",
      "\n",
      "C:\n",
      "Count: 7\n",
      "Percentage: 2.3728813559322033\n",
      "\n",
      "A:\n",
      "Count: 16\n",
      "Percentage: 5.423728813559322\n",
      "\n",
      "K:\n",
      "Count: 11\n",
      "Percentage: 3.728813559322034\n",
      "\n",
      "H:\n",
      "Count: 4\n",
      "Percentage: 1.3559322033898304\n",
      "\n",
      "T:\n",
      "Count: 9\n",
      "Percentage: 3.050847457627119\n",
      "\n",
      "Y:\n",
      "Count: 18\n",
      "Percentage: 6.101694915254238\n",
      "\n",
      "D:\n",
      "Count: 12\n",
      "Percentage: 4.067796610169491\n",
      "\n",
      "N:\n",
      "Count: 27\n",
      "Percentage: 9.152542372881356\n",
      "\n",
      "E:\n",
      "Count: 19\n",
      "Percentage: 6.440677966101695\n",
      "\n",
      "L:\n",
      "Count: 23\n",
      "Percentage: 7.796610169491526\n",
      "\n",
      "Q:\n",
      "Count: 8\n",
      "Percentage: 2.711864406779661\n",
      "\n",
      "P:\n",
      "Count: 13\n",
      "Percentage: 4.406779661016949\n",
      "\n",
      "S:\n",
      "Count: 21\n",
      "Percentage: 7.118644067796611\n",
      "\n",
      "R:\n",
      "Count: 12\n",
      "Percentage: 4.067796610169491\n",
      "\n",
      "I:\n",
      "Count: 18\n",
      "Percentage: 6.101694915254238\n",
      "\n",
      "V:\n",
      "Count: 21\n",
      "Percentage: 7.118644067796611\n",
      "\n",
      "F:\n",
      "Count: 18\n",
      "Percentage: 6.101694915254238\n",
      "\n",
      "W:\n",
      "Count: 6\n",
      "Percentage: 2.0338983050847457\n",
      "\n"
     ]
    }
   ],
   "source": [
    "from Bio.Seq import Seq\n",
    "\n",
    "# Define the protein sequence\n",
    "Seq1 = Seq(\"AEFYGIKFLPFPLVFCIGGFDGVEYLNSMELLDISQQCWRMCTPMSTKKAYFGSAVLNNFLYVFGGNNYDYKALFETEVYDRLRDVWYVSSNLNIPRRNNCGVTSNGRIYCIGGYDGSSIIPNVEAYDHRMKAWVEVAPLNTPRSSAMCVAFDNKIYVIGGTNGERLNSIEVYEEKMNKWEQFPYALLEARSSGAAFNYLNQIYVVGGIDNEHNILDSVEQYQPFNKRWQFLNGVPEKKMNFGAATLSDSYIITGGENGEVLNSCHFFSPDTNEWQLGPSLLVPRFGHSVLIANI\")\n",
    "\n",
    "# Get a list of unique amino acids in the sequence\n",
    "unique_amino_acids = list(set(Seq1))\n",
    "\n",
    "# Calculate the count and percentage for each amino acid\n",
    "amino_acid_counts = {}\n",
    "amino_acid_percentages = {}\n",
    "\n",
    "for amino_acid in unique_amino_acids:\n",
    "    count = Seq1.count(amino_acid)\n",
    "    percentage = (count / len(Seq1)) * 100\n",
    "    amino_acid_counts[amino_acid] = count\n",
    "    amino_acid_percentages[amino_acid] = percentage\n",
    "\n",
    "# Print the results\n",
    "print(\"Amino Acid Composition:\")\n",
    "\n",
    "for amino_acid in unique_amino_acids:\n",
    "    print(amino_acid + \":\")\n",
    "    print(\"Count:\", amino_acid_counts[amino_acid])\n",
    "    print(\"Percentage:\", amino_acid_percentages[amino_acid])\n",
    "    print()"
   ]
  }
 ],
 "metadata": {
  "kernelspec": {
   "display_name": "Python 3",
   "language": "python",
   "name": "python3"
  },
  "language_info": {
   "codemirror_mode": {
    "name": "ipython",
    "version": 3
   },
   "file_extension": ".py",
   "mimetype": "text/x-python",
   "name": "python",
   "nbconvert_exporter": "python",
   "pygments_lexer": "ipython3",
   "version": "3.10.11"
  },
  "orig_nbformat": 4
 },
 "nbformat": 4,
 "nbformat_minor": 2
}
